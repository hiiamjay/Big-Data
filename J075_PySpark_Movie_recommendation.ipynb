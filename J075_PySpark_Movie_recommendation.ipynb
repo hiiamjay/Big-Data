{
  "nbformat": 4,
  "nbformat_minor": 0,
  "metadata": {
    "colab": {
      "name": "PySpark_Movie_recommendation.ipynb",
      "provenance": [],
      "collapsed_sections": [],
      "toc_visible": true,
      "include_colab_link": true
    },
    "kernelspec": {
      "display_name": "Python 3",
      "name": "python3"
    },
    "language_info": {
      "name": "python"
    }
  },
  "cells": [
    {
      "cell_type": "markdown",
      "metadata": {
        "id": "view-in-github",
        "colab_type": "text"
      },
      "source": [
        "<a href=\"https://colab.research.google.com/github/hiiamjay/Big-Data/blob/main/J075_PySpark_Movie_recommendation.ipynb\" target=\"_parent\"><img src=\"https://colab.research.google.com/assets/colab-badge.svg\" alt=\"Open In Colab\"/></a>"
      ]
    },
    {
      "cell_type": "markdown",
      "metadata": {
        "id": "R9Cmg-2B_J8j"
      },
      "source": [
        "##Name: Jay Prajapati \n",
        "##Roll No.: J075"
      ]
    },
    {
      "cell_type": "markdown",
      "metadata": {
        "id": "eUkKzn-yM6nl"
      },
      "source": [
        "##  PySpark setup"
      ]
    },
    {
      "cell_type": "code",
      "metadata": {
        "id": "caYh86ewKs6F"
      },
      "source": [
        "!apt-get install openjdk-8-jdk-headless -qq > /dev/nul\n",
        "!wget -q https://mirrors.estointernet.in/apache/spark/spark-3.1.1/spark-3.1.1-bin-hadoop2.7.tgz\n",
        "!tar xf spark-3.1.1-bin-hadoop2.7.tgz\n",
        "!pip install -q findspark\n"
      ],
      "execution_count": null,
      "outputs": []
    },
    {
      "cell_type": "code",
      "metadata": {
        "colab": {
          "base_uri": "https://localhost:8080/",
          "height": 35
        },
        "id": "9dAAv3IQKaAL",
        "outputId": "8a1144f6-27ac-4a97-8c09-e12d67449034"
      },
      "source": [
        "import os\n",
        "os.environ[\"JAVA_HOME\"] = \"/usr/lib/jvm/java-8-openjdk-amd64\"\n",
        "os.environ[\"SPARK_HOME\"] = \"/content/spark-3.1.1-bin-hadoop2.7\"\n",
        "import findspark\n",
        "findspark.init()\n",
        "findspark.find()"
      ],
      "execution_count": null,
      "outputs": [
        {
          "output_type": "execute_result",
          "data": {
            "application/vnd.google.colaboratory.intrinsic+json": {
              "type": "string"
            },
            "text/plain": [
              "'/content/spark-3.1.1-bin-hadoop2.7'"
            ]
          },
          "metadata": {
            "tags": []
          },
          "execution_count": 2
        }
      ]
    },
    {
      "cell_type": "markdown",
      "metadata": {
        "id": "xepHpYGqNBej"
      },
      "source": [
        "## Download movie lens data:  \n",
        "https://www.kaggle.com/grouplens/movielens-20m-dataset?select=movie.csv"
      ]
    },
    {
      "cell_type": "code",
      "metadata": {
        "id": "UsVbEztyM3kP"
      },
      "source": [
        "! pip install -q kaggle"
      ],
      "execution_count": null,
      "outputs": []
    },
    {
      "cell_type": "code",
      "metadata": {
        "colab": {
          "resources": {
            "http://localhost:8080/nbextensions/google.colab/files.js": {
              "data": "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",
              "headers": [
                [
                  "content-type",
                  "application/javascript"
                ]
              ],
              "ok": true,
              "status": 200,
              "status_text": ""
            }
          },
          "base_uri": "https://localhost:8080/",
          "height": 109
        },
        "id": "DO8HpAmBNegk",
        "outputId": "b083b4e1-1a9c-4811-df52-5013f234ea94"
      },
      "source": [
        "from google.colab import files\n",
        "files.upload()"
      ],
      "execution_count": null,
      "outputs": [
        {
          "output_type": "display_data",
          "data": {
            "text/html": [
              "\n",
              "     <input type=\"file\" id=\"files-90a3c22e-81b5-4c45-bba6-ea21acc046a4\" name=\"files[]\" multiple disabled\n",
              "        style=\"border:none\" />\n",
              "     <output id=\"result-90a3c22e-81b5-4c45-bba6-ea21acc046a4\">\n",
              "      Upload widget is only available when the cell has been executed in the\n",
              "      current browser session. Please rerun this cell to enable.\n",
              "      </output>\n",
              "      <script src=\"/nbextensions/google.colab/files.js\"></script> "
            ],
            "text/plain": [
              "<IPython.core.display.HTML object>"
            ]
          },
          "metadata": {
            "tags": []
          }
        },
        {
          "output_type": "stream",
          "text": [
            "Saving kaggle.json to kaggle.json\n"
          ],
          "name": "stdout"
        },
        {
          "output_type": "execute_result",
          "data": {
            "text/plain": [
              "{'kaggle.json': b'{\"username\":\"jayprajapati\",\"key\":\"8f63479be57fac32a2ac7b766f5657e4\"}'}"
            ]
          },
          "metadata": {
            "tags": []
          },
          "execution_count": 4
        }
      ]
    },
    {
      "cell_type": "code",
      "metadata": {
        "colab": {
          "base_uri": "https://localhost:8080/"
        },
        "id": "U4uJPduqNqXk",
        "outputId": "966fe35a-f58f-4f60-c556-5002af3f48a6"
      },
      "source": [
        "! mkdir ~/.kaggle\n",
        "! cp kaggle.json ~/.kaggle/\n",
        "! chmod 600 ~/.kaggle/kaggle.json\n",
        "! kaggle datasets list"
      ],
      "execution_count": null,
      "outputs": [
        {
          "output_type": "stream",
          "text": [
            "Warning: Looks like you're using an outdated API Version, please consider updating (server 1.5.12 / client 1.5.4)\n",
            "ref                                                         title                                              size  lastUpdated          downloadCount  \n",
            "----------------------------------------------------------  ------------------------------------------------  -----  -------------------  -------------  \n",
            "gpreda/reddit-vaccine-myths                                 Reddit Vaccine Myths                              223KB  2021-04-09 08:39:14           2343  \n",
            "crowww/a-large-scale-fish-dataset                           A Large Scale Fish Dataset                          3GB  2021-02-17 16:10:44           1361  \n",
            "dhruvildave/wikibooks-dataset                               Wikibooks Dataset                                   1GB  2021-02-18 10:08:27           1033  \n",
            "promptcloud/careerbuilder-job-listing-2020                  Careerbuilder Job Listing 2020                     42MB  2021-03-05 06:59:52            226  \n",
            "imsparsh/musicnet-dataset                                   MusicNet Dataset                                   22GB  2021-02-18 14:12:19            486  \n",
            "alsgroup/end-als                                            End ALS Kaggle Challenge                           12GB  2021-04-08 12:16:37            362  \n",
            "mathurinache/twitter-edge-nodes                             Twitter Edge Nodes                                342MB  2021-03-08 06:43:04            120  \n",
            "simiotic/github-code-snippets                               GitHub Code Snippets                                7GB  2021-03-03 11:34:39             51  \n",
            "nickuzmenkov/nih-chest-xrays-tfrecords                      NIH Chest X-rays TFRecords                         11GB  2021-03-09 04:49:23            217  \n",
            "fatiimaezzahra/famous-iconic-women                          Famous Iconic Women                               838MB  2021-02-28 14:56:00            333  \n",
            "mathurinache/the-lj-speech-dataset                          The LJ Speech Dataset                               3GB  2021-02-15 09:19:54             82  \n",
            "coloradokb/dandelionimages                                  DandelionImages                                     4GB  2021-02-19 20:03:47            144  \n",
            "nickuzmenkov/ranzcr-clip-kfold-tfrecords                    RANZCR CLiP KFold TFRecords                         2GB  2021-02-21 13:29:51             49  \n",
            "landrykezebou/lvzhdr-tone-mapping-benchmark-dataset-tmonet  LVZ-HDR Tone Mapping Benchmark Dataset (TMO-Net)   24GB  2021-03-01 05:03:40             40  \n",
            "imsparsh/accentdb-core-extended                             AccentDB - Core & Extended                          6GB  2021-02-17 14:22:54             34  \n",
            "stuartjames/lights                                          LightS: Light Specularity Dataset                  18GB  2021-02-18 14:32:26             28  \n",
            "shivamb/netflix-shows                                       Netflix Movies and TV Shows                         1MB  2021-01-18 16:20:26         131928  \n",
            "datasnaek/youtube-new                                       Trending YouTube Video Statistics                 201MB  2019-06-03 00:56:47         134387  \n",
            "zynicide/wine-reviews                                       Wine Reviews                                       51MB  2017-11-27 17:08:04         132704  \n",
            "google/tinyquickdraw                                        QuickDraw Sketches                                 11GB  2018-04-18 19:38:04           2966  \n"
          ],
          "name": "stdout"
        }
      ]
    },
    {
      "cell_type": "code",
      "metadata": {
        "colab": {
          "base_uri": "https://localhost:8080/"
        },
        "id": "oCe5nOvYN-GT",
        "outputId": "9317fb1d-d2d3-4c1e-f1cd-ad249438b5b1"
      },
      "source": [
        "!kaggle datasets download -d grouplens/movielens-20m-dataset"
      ],
      "execution_count": null,
      "outputs": [
        {
          "output_type": "stream",
          "text": [
            "Downloading movielens-20m-dataset.zip to /content\n",
            "100% 195M/195M [00:10<00:00, 16.0MB/s]\n",
            "100% 195M/195M [00:10<00:00, 19.8MB/s]\n"
          ],
          "name": "stdout"
        }
      ]
    },
    {
      "cell_type": "code",
      "metadata": {
        "colab": {
          "base_uri": "https://localhost:8080/"
        },
        "id": "cL3-VzNlOZXC",
        "outputId": "6890449e-952b-4d5e-dfa4-e69471073780"
      },
      "source": [
        "!unzip /content/movielens-20m-dataset.zip"
      ],
      "execution_count": null,
      "outputs": [
        {
          "output_type": "stream",
          "text": [
            "Archive:  /content/movielens-20m-dataset.zip\n",
            "  inflating: genome_scores.csv       \n",
            "  inflating: genome_tags.csv         \n",
            "  inflating: link.csv                \n",
            "  inflating: movie.csv               \n",
            "  inflating: rating.csv              \n",
            "  inflating: tag.csv                 \n"
          ],
          "name": "stdout"
        }
      ]
    },
    {
      "cell_type": "markdown",
      "metadata": {
        "id": "gvcmCf_SOycr"
      },
      "source": [
        "# Movie Recommendation using PySpark"
      ]
    },
    {
      "cell_type": "code",
      "metadata": {
        "id": "moY9zIJqPl-E"
      },
      "source": [
        "import os\n",
        "import sys\n",
        "os.environ['PYSPARK_PYTHON'] = sys.executable\n",
        "os.environ['PYSPARK_DRIVER_PYTHON'] = sys.executable"
      ],
      "execution_count": null,
      "outputs": []
    },
    {
      "cell_type": "code",
      "metadata": {
        "id": "baKJ3dqXSFHd"
      },
      "source": [
        "from pyspark.sql.functions import col"
      ],
      "execution_count": null,
      "outputs": []
    },
    {
      "cell_type": "code",
      "metadata": {
        "id": "oQnjhrJVE-Fh"
      },
      "source": [
        "from pyspark.sql.functions import lit"
      ],
      "execution_count": null,
      "outputs": []
    },
    {
      "cell_type": "code",
      "metadata": {
        "id": "SRNw2VhUOxpS"
      },
      "source": [
        "def get_mat_sparsity(ratings):\n",
        "    # Count the total number of ratings in the dataset\n",
        "    count_nonzero = ratings.select(\"rating\").count()\n",
        "\n",
        "    # Count the number of distinct userIds and distinct movieIds\n",
        "    total_elements = ratings.select(\"userId\").distinct().count() * ratings.select(\"movieId\").distinct().count()\n",
        "\n",
        "    # Divide the numerator by the denominator\n",
        "    sparsity = (1.0 - (count_nonzero *1.0)/total_elements)*100\n",
        "    print(\"The ratings dataframe is \", \"%.2f\" % sparsity + \"% sparse.\")"
      ],
      "execution_count": null,
      "outputs": []
    },
    {
      "cell_type": "code",
      "metadata": {
        "colab": {
          "base_uri": "https://localhost:8080/"
        },
        "id": "dYqIvUMPOrar",
        "outputId": "b3dd9e3a-ff1f-46d6-b2d6-4f058008f684"
      },
      "source": [
        "from pyspark.sql import SparkSession\n",
        "spark = SparkSession.builder.appName('Recommendations').getOrCreate()\n",
        "movies = spark.read.csv(\"movie.csv\",header=True)\n",
        "ratings = spark.read.csv(\"rating.csv\",header=True)\n",
        "ratings.show()"
      ],
      "execution_count": null,
      "outputs": [
        {
          "output_type": "stream",
          "text": [
            "+------+-------+------+-------------------+\n",
            "|userId|movieId|rating|          timestamp|\n",
            "+------+-------+------+-------------------+\n",
            "|     1|      2|   3.5|2005-04-02 23:53:47|\n",
            "|     1|     29|   3.5|2005-04-02 23:31:16|\n",
            "|     1|     32|   3.5|2005-04-02 23:33:39|\n",
            "|     1|     47|   3.5|2005-04-02 23:32:07|\n",
            "|     1|     50|   3.5|2005-04-02 23:29:40|\n",
            "|     1|    112|   3.5|2004-09-10 03:09:00|\n",
            "|     1|    151|     4|2004-09-10 03:08:54|\n",
            "|     1|    223|     4|2005-04-02 23:46:13|\n",
            "|     1|    253|     4|2005-04-02 23:35:40|\n",
            "|     1|    260|     4|2005-04-02 23:33:46|\n",
            "|     1|    293|     4|2005-04-02 23:31:43|\n",
            "|     1|    296|     4|2005-04-02 23:32:47|\n",
            "|     1|    318|     4|2005-04-02 23:33:18|\n",
            "|     1|    337|   3.5|2004-09-10 03:08:29|\n",
            "|     1|    367|   3.5|2005-04-02 23:53:00|\n",
            "|     1|    541|     4|2005-04-02 23:30:03|\n",
            "|     1|    589|   3.5|2005-04-02 23:45:57|\n",
            "|     1|    593|   3.5|2005-04-02 23:31:01|\n",
            "|     1|    653|     3|2004-09-10 03:08:11|\n",
            "|     1|    919|   3.5|2004-09-10 03:07:01|\n",
            "+------+-------+------+-------------------+\n",
            "only showing top 20 rows\n",
            "\n"
          ],
          "name": "stdout"
        }
      ]
    },
    {
      "cell_type": "code",
      "metadata": {
        "colab": {
          "base_uri": "https://localhost:8080/"
        },
        "id": "0A1XgcshPA70",
        "outputId": "adadb556-bdf0-4126-ead2-d4fbd3d17ad1"
      },
      "source": [
        "movies.show()"
      ],
      "execution_count": null,
      "outputs": [
        {
          "output_type": "stream",
          "text": [
            "+-------+--------------------+--------------------+\n",
            "|movieId|               title|              genres|\n",
            "+-------+--------------------+--------------------+\n",
            "|      1|    Toy Story (1995)|Adventure|Animati...|\n",
            "|      2|      Jumanji (1995)|Adventure|Childre...|\n",
            "|      3|Grumpier Old Men ...|      Comedy|Romance|\n",
            "|      4|Waiting to Exhale...|Comedy|Drama|Romance|\n",
            "|      5|Father of the Bri...|              Comedy|\n",
            "|      6|         Heat (1995)|Action|Crime|Thri...|\n",
            "|      7|      Sabrina (1995)|      Comedy|Romance|\n",
            "|      8| Tom and Huck (1995)|  Adventure|Children|\n",
            "|      9| Sudden Death (1995)|              Action|\n",
            "|     10|    GoldenEye (1995)|Action|Adventure|...|\n",
            "|     11|American Presiden...|Comedy|Drama|Romance|\n",
            "|     12|Dracula: Dead and...|       Comedy|Horror|\n",
            "|     13|        Balto (1995)|Adventure|Animati...|\n",
            "|     14|        Nixon (1995)|               Drama|\n",
            "|     15|Cutthroat Island ...|Action|Adventure|...|\n",
            "|     16|       Casino (1995)|         Crime|Drama|\n",
            "|     17|Sense and Sensibi...|       Drama|Romance|\n",
            "|     18|   Four Rooms (1995)|              Comedy|\n",
            "|     19|Ace Ventura: When...|              Comedy|\n",
            "|     20|  Money Train (1995)|Action|Comedy|Cri...|\n",
            "+-------+--------------------+--------------------+\n",
            "only showing top 20 rows\n",
            "\n"
          ],
          "name": "stdout"
        }
      ]
    },
    {
      "cell_type": "code",
      "metadata": {
        "colab": {
          "base_uri": "https://localhost:8080/"
        },
        "id": "veivI1W-RLk0",
        "outputId": "408aba93-a90d-4c34-e14c-ee62e3e46508"
      },
      "source": [
        "ratings = ratings.\\\n",
        "          withColumn('userId', col('userId').cast('integer')).\\\n",
        "          withColumn('movieId', col('MovieId').cast('integer')).\\\n",
        "          withColumn('rating', col('rating').cast('float')).\\\n",
        "          drop('timestamp')\n",
        "\n",
        "ratings.show()"
      ],
      "execution_count": null,
      "outputs": [
        {
          "output_type": "stream",
          "text": [
            "+------+-------+------+\n",
            "|userId|movieId|rating|\n",
            "+------+-------+------+\n",
            "|     1|      2|   3.5|\n",
            "|     1|     29|   3.5|\n",
            "|     1|     32|   3.5|\n",
            "|     1|     47|   3.5|\n",
            "|     1|     50|   3.5|\n",
            "|     1|    112|   3.5|\n",
            "|     1|    151|   4.0|\n",
            "|     1|    223|   4.0|\n",
            "|     1|    253|   4.0|\n",
            "|     1|    260|   4.0|\n",
            "|     1|    293|   4.0|\n",
            "|     1|    296|   4.0|\n",
            "|     1|    318|   4.0|\n",
            "|     1|    337|   3.5|\n",
            "|     1|    367|   3.5|\n",
            "|     1|    541|   4.0|\n",
            "|     1|    589|   3.5|\n",
            "|     1|    593|   3.5|\n",
            "|     1|    653|   3.0|\n",
            "|     1|    919|   3.5|\n",
            "+------+-------+------+\n",
            "only showing top 20 rows\n",
            "\n"
          ],
          "name": "stdout"
        }
      ]
    },
    {
      "cell_type": "code",
      "metadata": {
        "id": "kByKu8U9P3tE"
      },
      "source": [
        "movie_ratings = ratings.join(movies, ['movieId'], 'left')"
      ],
      "execution_count": null,
      "outputs": []
    },
    {
      "cell_type": "code",
      "metadata": {
        "colab": {
          "base_uri": "https://localhost:8080/"
        },
        "id": "i_7WLRKGAMFt",
        "outputId": "0e12b40a-ee53-4240-892d-a63f1ca27586"
      },
      "source": [
        "get_mat_sparsity(ratings)"
      ],
      "execution_count": null,
      "outputs": [
        {
          "output_type": "stream",
          "text": [
            "The ratings dataframe is  99.46% sparse.\n"
          ],
          "name": "stdout"
        }
      ]
    },
    {
      "cell_type": "code",
      "metadata": {
        "id": "Mn5H78i3ActC"
      },
      "source": [
        "(train, test) = ratings.randomSplit([0.8, 0.2], seed = 1234)"
      ],
      "execution_count": null,
      "outputs": []
    },
    {
      "cell_type": "code",
      "metadata": {
        "id": "hxh3t9DZA2j2"
      },
      "source": [
        "# def get_binary_data(ratings):\n",
        "#   ratings = ratings.withColumn('binary', lit(1))\n",
        "#   userIds = ratings.select('userId').distinct()\n",
        "#   movieIds = ratings.select('movieId').distinct()\n",
        "\n",
        "#   user_movie = userIds.crossJoin(movieIds).join(ratings, ['userId', 'movieId'], \"left\")\n",
        "#   user_movie = user_movie.select(['userId', 'movieid', 'binary']).fillna(0)\n",
        "#   return user_movie\n",
        "\n",
        "# user_movie = get_binary_data(ratings)\n",
        "# user_movie"
      ],
      "execution_count": null,
      "outputs": []
    },
    {
      "cell_type": "code",
      "metadata": {
        "id": "8LVmvWQyGmZv"
      },
      "source": [
        "from pyspark.ml.evaluation import RegressionEvaluator\n",
        "from pyspark.ml.recommendation import ALS\n",
        "from pyspark.ml.tuning import ParamGridBuilder, CrossValidator"
      ],
      "execution_count": null,
      "outputs": []
    },
    {
      "cell_type": "code",
      "metadata": {
        "id": "GS4W3M67M0Ka"
      },
      "source": [
        "als = ALS(\n",
        "            userCol = 'userId',\n",
        "          itemCol = 'movieId',\n",
        "          ratingCol = 'rating',\n",
        "          nonnegative = True,\n",
        "          implicitPrefs = False,\n",
        "          coldStartStrategy = 'drop'\n",
        "\n",
        ")"
      ],
      "execution_count": null,
      "outputs": []
    },
    {
      "cell_type": "code",
      "metadata": {
        "colab": {
          "base_uri": "https://localhost:8080/"
        },
        "id": "8p8OMyxfNQ9S",
        "outputId": "d6a3ffc8-32be-490f-fdf7-dd2a3d26b368"
      },
      "source": [
        "type(als)"
      ],
      "execution_count": null,
      "outputs": [
        {
          "output_type": "execute_result",
          "data": {
            "text/plain": [
              "pyspark.ml.recommendation.ALS"
            ]
          },
          "metadata": {
            "tags": []
          },
          "execution_count": 21
        }
      ]
    },
    {
      "cell_type": "code",
      "metadata": {
        "colab": {
          "base_uri": "https://localhost:8080/"
        },
        "id": "NWNW_bHtNn1N",
        "outputId": "8740a2da-0497-4a78-ad2a-5bfb5be2f30b"
      },
      "source": [
        "param_grid = ParamGridBuilder()\\\n",
        "              .addGrid(als.rank,[50])\\\n",
        "              .addGrid(als.regParam,[.15])\\\n",
        "              .build()\n",
        "\n",
        "\n",
        "\n",
        "evaluator = RegressionEvaluator(metricName='rmse', labelCol='rating', predictionCol= 'prediction')\n",
        "\n",
        "print(f'Total models = {len(param_grid)}')"
      ],
      "execution_count": null,
      "outputs": [
        {
          "output_type": "stream",
          "text": [
            "Total models = 1\n"
          ],
          "name": "stdout"
        }
      ]
    },
    {
      "cell_type": "code",
      "metadata": {
        "id": "SwNDukEJOX0h"
      },
      "source": [
        "cv = CrossValidator(estimator=als,\n",
        "                    estimatorParamMaps=param_grid,\n",
        "                    evaluator = evaluator,\n",
        "                    numFolds=5)"
      ],
      "execution_count": null,
      "outputs": []
    },
    {
      "cell_type": "code",
      "metadata": {
        "colab": {
          "base_uri": "https://localhost:8080/"
        },
        "id": "reFzGaSKRCE7",
        "outputId": "edd90ed2-37b5-48e1-f597-6c8de737cf77"
      },
      "source": [
        "train.dtypes"
      ],
      "execution_count": null,
      "outputs": [
        {
          "output_type": "execute_result",
          "data": {
            "text/plain": [
              "[('userId', 'int'), ('movieId', 'int'), ('rating', 'float')]"
            ]
          },
          "metadata": {
            "tags": []
          },
          "execution_count": 24
        }
      ]
    },
    {
      "cell_type": "code",
      "metadata": {
        "colab": {
          "background_save": true
        },
        "id": "7TyRrIo-Qv7g"
      },
      "source": [
        "model = cv.fit(train)\n",
        "best_model = model.bestModel"
      ],
      "execution_count": null,
      "outputs": []
    },
    {
      "cell_type": "code",
      "metadata": {
        "colab": {
          "background_save": true,
          "base_uri": "https://localhost:8080/"
        },
        "id": "oY03VT_bSgh-",
        "outputId": "ee81615d-5a7b-4fb7-dbf1-7a95a09554bb"
      },
      "source": [
        "# Print best_model\n",
        "print(type(best_model))\n",
        "\n",
        "# Complete the code below to extract the ALS model parameters\n",
        "print(\"**Best Model**\")\n",
        "\n",
        "print(\"  Rank:\", best_model._java_obj.parent().getRank())\n",
        "\n",
        "print(\"  MaxIter:\", best_model._java_obj.parent().getMaxIter())\n",
        "print(\"  RegParam:\", best_model._java_obj.parent().getRegParam())"
      ],
      "execution_count": null,
      "outputs": [
        {
          "output_type": "stream",
          "text": [
            "<class 'pyspark.ml.recommendation.ALSModel'>\n",
            "**Best Model**\n",
            "  Rank: 50\n",
            "  MaxIter: 10\n",
            "  RegParam: 0.15\n"
          ],
          "name": "stdout"
        }
      ]
    },
    {
      "cell_type": "code",
      "metadata": {
        "colab": {
          "background_save": true
        },
        "id": "b8Hz4DS5UMML",
        "outputId": "246af4bf-b7ba-4e51-f4f3-fb042d1d9a97"
      },
      "source": [
        "test_predictions = best_model.transform(test)\n",
        "RMSE = evaluator.evaluate(test_predictions)\n",
        "print(RMSE)"
      ],
      "execution_count": null,
      "outputs": [
        {
          "output_type": "stream",
          "text": [
            "0.8417163873347729\n"
          ],
          "name": "stdout"
        }
      ]
    },
    {
      "cell_type": "code",
      "metadata": {
        "colab": {
          "background_save": true
        },
        "id": "2Ak6Uv9qURda",
        "outputId": "fbccecba-4dcd-4230-a312-ed8f5222c452"
      },
      "source": [
        "test_predictions.show()"
      ],
      "execution_count": null,
      "outputs": [
        {
          "output_type": "stream",
          "text": [
            "+------+-------+------+----------+\n",
            "|userId|movieId|rating|prediction|\n",
            "+------+-------+------+----------+\n",
            "|136222|    148|   2.0| 2.4917085|\n",
            "|137949|    148|   4.0| 3.0608127|\n",
            "| 88527|    148|   2.0| 2.3915844|\n",
            "| 96427|    148|   3.0|    2.9502|\n",
            "| 36821|    148|   4.0| 2.9237728|\n",
            "| 32882|    148|   3.0|  2.801645|\n",
            "| 46146|    148|   2.0| 1.9114995|\n",
            "| 54726|    148|   5.0| 3.2065337|\n",
            "|  3990|    148|   4.0| 2.3979542|\n",
            "| 80693|    148|   1.0| 2.8194163|\n",
            "| 64843|    148|   3.5| 2.6936018|\n",
            "| 81300|    148|   1.0| 2.8289113|\n",
            "| 48644|    148|   3.0| 2.9737992|\n",
            "| 62028|    148|   3.0| 2.7503645|\n",
            "|128653|    148|   2.0| 2.4528787|\n",
            "|  9084|    148|   2.0|  2.931666|\n",
            "| 70446|    148|   2.0| 2.9682858|\n",
            "| 75359|    148|   3.0| 3.0545902|\n",
            "|110991|    148|   2.5| 2.7444704|\n",
            "| 10434|    148|   3.0|  2.589263|\n",
            "+------+-------+------+----------+\n",
            "only showing top 20 rows\n",
            "\n"
          ],
          "name": "stdout"
        }
      ]
    },
    {
      "cell_type": "code",
      "metadata": {
        "id": "U71yWDhuU1Tp"
      },
      "source": [
        "recommendations = best_model.recommendForAllUsers(5)\n",
        "recommendations.show()"
      ],
      "execution_count": null,
      "outputs": []
    },
    {
      "cell_type": "code",
      "metadata": {
        "id": "y8xSxQRsU1Qj",
        "colab": {
          "base_uri": "https://localhost:8080/"
        },
        "outputId": "103df92a-2159-4364-cfae-23b4d59105d8"
      },
      "source": [
        "from pyspark.sql.functions import explode\n",
        "nrecommendations = recommendations\\\n",
        "    .withColumn(\"rec_exp\", explode(\"recommendations\"))\\\n",
        "    .select('userId', col(\"rec_exp.movieId\"), col(\"rec_exp.rating\"))\n",
        "nrecommendations.limit(10).show()"
      ],
      "execution_count": 30,
      "outputs": [
        {
          "output_type": "stream",
          "text": [
            "+------+-------+---------+\n",
            "|userId|movieId|   rating|\n",
            "+------+-------+---------+\n",
            "|   148| 126219| 8.442733|\n",
            "|   148| 124273|6.3491216|\n",
            "|   148| 121029|5.9778843|\n",
            "|   148| 107252| 5.382686|\n",
            "|   148| 114906| 5.322111|\n",
            "|   463| 126219| 8.210969|\n",
            "|   463| 124273| 7.571328|\n",
            "|   463| 121029| 6.465673|\n",
            "|   463| 107252|5.9202223|\n",
            "|   463| 110173|5.7722144|\n",
            "+------+-------+---------+\n",
            "\n"
          ],
          "name": "stdout"
        }
      ]
    },
    {
      "cell_type": "code",
      "metadata": {
        "id": "g0FdVTBxU1NI"
      },
      "source": [
        "nrecommendations.join(movies, on='movieId').filter('userId = 100').show()"
      ],
      "execution_count": null,
      "outputs": []
    },
    {
      "cell_type": "code",
      "metadata": {
        "id": "0tpL7uYiU1J8",
        "colab": {
          "base_uri": "https://localhost:8080/"
        },
        "outputId": "e4e23ee4-58e9-496a-a932-eef4a875bf87"
      },
      "source": [
        "ratings.join(movies, on='movieId').filter('userId = 100').sort('rating', ascending=False).limit(10).show()"
      ],
      "execution_count": 32,
      "outputs": [
        {
          "output_type": "stream",
          "text": [
            "+-------+------+------+--------------------+--------------------+\n",
            "|movieId|userId|rating|               title|              genres|\n",
            "+-------+------+------+--------------------+--------------------+\n",
            "|     50|   100|   5.0|Usual Suspects, T...|Crime|Mystery|Thr...|\n",
            "|    293|   100|   5.0|Léon: The Profess...|Action|Crime|Dram...|\n",
            "|    680|   100|   5.0|Alphaville (Alpha...|Drama|Mystery|Rom...|\n",
            "|   1449|   100|   5.0|Waiting for Guffm...|              Comedy|\n",
            "|    235|   100|   4.0|      Ed Wood (1994)|        Comedy|Drama|\n",
            "|    162|   100|   4.0|        Crumb (1994)|         Documentary|\n",
            "|    223|   100|   4.0|       Clerks (1994)|              Comedy|\n",
            "|    260|   100|   4.0|Star Wars: Episod...|Action|Adventure|...|\n",
            "|    265|   100|   4.0|Like Water for Ch...|Drama|Fantasy|Rom...|\n",
            "|    288|   100|   4.0|Natural Born Kill...|Action|Crime|Thri...|\n",
            "+-------+------+------+--------------------+--------------------+\n",
            "\n"
          ],
          "name": "stdout"
        }
      ]
    },
    {
      "cell_type": "markdown",
      "metadata": {
        "id": "kTAI2BxbjdR4"
      },
      "source": [
        "![Screenshot 2021-04-10 at 12.22.51 PM.png](data:image/png;base64,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)"
      ]
    },
    {
      "cell_type": "markdown",
      "metadata": {
        "id": "lYlDsLpU-TEk"
      },
      "source": [
        "files in local environment"
      ]
    }
  ]
}